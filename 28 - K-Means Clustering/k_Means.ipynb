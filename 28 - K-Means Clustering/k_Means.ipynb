{
  "cells": [
    {
      "cell_type": "markdown",
      "metadata": {
        "id": "view-in-github",
        "colab_type": "text"
      },
      "source": [
        "<a href=\"https://colab.research.google.com/github/Applied-Machine-Learning-2022/k-means-clustering-a-mufasa/blob/beginAssignment/k_Means.ipynb\" target=\"_parent\"><img src=\"https://colab.research.google.com/assets/colab-badge.svg\" alt=\"Open In Colab\"/></a>"
      ]
    },
    {
      "cell_type": "markdown",
      "metadata": {
        "id": "copyright"
      },
      "source": [
        "#### Copyright 2020 Google LLC."
      ]
    },
    {
      "cell_type": "code",
      "execution_count": null,
      "metadata": {
        "id": "DIk2MioaatFI"
      },
      "outputs": [],
      "source": [
        "# Licensed under the Apache License, Version 2.0 (the \"License\");\n",
        "# you may not use this file except in compliance with the License.\n",
        "# You may obtain a copy of the License at\n",
        "#\n",
        "# https://www.apache.org/licenses/LICENSE-2.0\n",
        "#\n",
        "# Unless required by applicable law or agreed to in writing, software\n",
        "# distributed under the License is distributed on an \"AS IS\" BASIS,\n",
        "# WITHOUT WARRANTIES OR CONDITIONS OF ANY KIND, either express or implied.\n",
        "# See the License for the specific language governing permissions and\n",
        "# limitations under the License."
      ]
    },
    {
      "cell_type": "markdown",
      "metadata": {
        "id": "daX5oL8aDZLn"
      },
      "source": [
        "# k-means\n"
      ]
    },
    {
      "cell_type": "markdown",
      "metadata": {
        "id": "e5jEmmM1wQBC"
      },
      "source": [
        "k-means clustering is an *unsupervised* machine learning algorithm that can be used to group items into clusters.\n",
        "\n",
        "So far we have only worked with supervised algorithms. Supervised algorithms have training data with labels that identify the numeric value or class for each item. These algorithms use labeled data to build a model that can be used to make predictions.\n",
        "\n",
        "k-means clustering is different. The training data is not labeled. Unlabeled training data is fed into the model, which attempts to find relationships in the data and create clusters based on those relationships. Once these clusters are formed, predictions can be made about which cluster new data items belong to.\n",
        "\n",
        "The clusters can't easily be labeled in many cases. The clusters are \"emergent clusters\" and are created by the algorithm. They don't always map to groupings that you might expect."
      ]
    },
    {
      "cell_type": "markdown",
      "metadata": {
        "id": "ytHWSs1qG3e5"
      },
      "source": [
        "## Example: Groups of Mushrooms\n",
        "\n",
        "Let's start by looking at a real world use case involving mushrooms. The University of California Irvine has a [dataset containing various attributes of mushrooms](https://www.kaggle.com/uciml/mushroom-classification). One of those attributes is the edibility of the mushroom: Is it edible or is it poisonous?  We want to see if we can find clusters of mushroom attributes that can be used to determine if a mushroom is edible or not."
      ]
    },
    {
      "cell_type": "markdown",
      "metadata": {
        "id": "1NUs6PhaH9J7"
      },
      "source": [
        "### Load the Data\n",
        "\n",
        "For this example we'll load the [mushroom classification](https://www.kaggle.com/uciml/mushroom-classification) data. The dataset attributes about over `8,000` different mushrooms.\n",
        "\n",
        "Upload your `kaggle.json` file and run the code block below."
      ]
    },
    {
      "cell_type": "code",
      "execution_count": null,
      "metadata": {
        "id": "-IXUekcf9kLk"
      },
      "outputs": [],
      "source": [
        "! chmod 600 kaggle.json && (ls ~/.kaggle 2>/dev/null || mkdir ~/.kaggle) && mv kaggle.json ~/.kaggle/ && echo 'Done'"
      ]
    },
    {
      "cell_type": "markdown",
      "metadata": {
        "id": "90kxf9D89sh-"
      },
      "source": [
        "And then use the Kaggle API to download the dataset."
      ]
    },
    {
      "cell_type": "code",
      "execution_count": null,
      "metadata": {
        "id": "yA7gddSDBP0B"
      },
      "outputs": [],
      "source": [
        "! kaggle datasets download uciml/mushroom-classification\n",
        "! ls"
      ]
    },
    {
      "cell_type": "markdown",
      "metadata": {
        "id": "XloYj7BNNzs9"
      },
      "source": [
        "Unzip the Data."
      ]
    },
    {
      "cell_type": "code",
      "execution_count": null,
      "metadata": {
        "id": "Cs3D-ZBXBXTy"
      },
      "outputs": [],
      "source": [
        "! unzip mushroom-classification.zip\n",
        "! ls"
      ]
    },
    {
      "cell_type": "markdown",
      "metadata": {
        "id": "oKcL398EN2Vt"
      },
      "source": [
        "And finally, load the training data into a `DataFrame`."
      ]
    },
    {
      "cell_type": "code",
      "execution_count": null,
      "metadata": {
        "id": "Bo2GFoXNBfFN"
      },
      "outputs": [],
      "source": [
        "import pandas as pd\n",
        "\n",
        "data = pd.read_csv('mushrooms.csv')\n",
        "data.sample(n=10)"
      ]
    },
    {
      "cell_type": "markdown",
      "metadata": {
        "id": "ShvO0AWGOAX3"
      },
      "source": [
        "### Exploratory Data Analysis"
      ]
    },
    {
      "cell_type": "markdown",
      "metadata": {
        "id": "xcvUECVCODNV"
      },
      "source": [
        "Let's take a closer look at the data that we'll be working with, starting with a simple describe."
      ]
    },
    {
      "cell_type": "code",
      "execution_count": null,
      "metadata": {
        "id": "6Vlqf1a3GaZv"
      },
      "outputs": [],
      "source": [
        "data.describe(include='all')"
      ]
    },
    {
      "cell_type": "markdown",
      "metadata": {
        "id": "YZE93JydGaEq"
      },
      "source": [
        "It doesn't look like any columns are missing data since we see counts of `8,124` for every column.\n",
        "\n",
        "It does look like all of the data is categorical. We'll need to convert it into numeric values for the model to work. Let's do it for every column except `class`. We aren't trying to predict class, but we do want to see if we can get pure clusters of one type of class. So we don't want it included in our training data. Also, it is the only feature that isn't observable without having dire consequences!"
      ]
    },
    {
      "cell_type": "code",
      "execution_count": null,
      "metadata": {
        "id": "UxVI_cMiBvtx"
      },
      "outputs": [],
      "source": [
        "columns = [c for c in data.columns.values if c != 'class']\n",
        "id_to_value_mappings = {}\n",
        "value_to_id_mappings = {}\n",
        "\n",
        "for column in columns:\n",
        "  i_to_v = sorted(data[column].unique())\n",
        "  v_to_i = { v:i for i, v in enumerate(i_to_v)}\n",
        "  \n",
        "\n",
        "  numeric_column = column + '-id'\n",
        "  data[numeric_column] = [v_to_i[v] for v in data[column]]\n",
        "\n",
        "  value_to_id_mappings[column] = v_to_i\n",
        "  id_to_value_mappings[numeric_column] = i_to_v\n",
        "\n",
        "numeric_columns = id_to_value_mappings.keys()\n",
        "data[numeric_columns].describe()"
      ]
    },
    {
      "cell_type": "markdown",
      "metadata": {
        "id": "pxHbDQi5RehL"
      },
      "source": [
        "### Perform Clustering"
      ]
    },
    {
      "cell_type": "markdown",
      "metadata": {
        "id": "-ZTI-QWeRcXE"
      },
      "source": [
        "We now have numeric data that a model can handle. To run k-means clustering on the data, we simply load [k-means](https://scikit-learn.org/stable/modules/generated/sklearn.cluster.KMeans.html) from scikit-learn and ask the model to find a specific number of clusters for us.\n",
        "\n",
        "Notice that we are scaling the data. The class IDs are integer values, and some columns have many more classes than others. Scaling helps make sure that columns with more classes don't have an undue influence on the model."
      ]
    },
    {
      "cell_type": "code",
      "execution_count": null,
      "metadata": {
        "id": "R1kKMdvzC27A"
      },
      "outputs": [],
      "source": [
        "from sklearn.cluster import KMeans\n",
        "from sklearn.preprocessing import scale\n",
        "\n",
        "model = KMeans(n_clusters=10)\n",
        "model.fit(scale(data[numeric_columns]))\n",
        "\n",
        "print(model.inertia_)"
      ]
    },
    {
      "cell_type": "markdown",
      "metadata": {
        "id": "PMOPqimXSlaQ"
      },
      "source": [
        "We asked scikit-learn to create 10 clusters for us, and then we printed out the `inertia_` for the resultant clusters. *Inertia* is the sum of the squared distances of samples to their closest cluster center. Typically, the smaller the inertia the better.\n",
        "\n",
        "But why did we choose `10` clusters? And is the inertia that we received reasonable?"
      ]
    },
    {
      "cell_type": "markdown",
      "metadata": {
        "id": "Asbd5pyUSp2G"
      },
      "source": [
        "### Find the Optimal Number of Clusters\n",
        "\n",
        "With just one run of the algorithm, it is difficult to tell how many clusters we should have and what an appropriate inertia value is. k-means is trying to discover things about your data that you do not know. Picking a number of clusters at random isn't the best way to use k-means.\n",
        "\n",
        "Instead, you should experiment with a few different cluster values and measure the inertia of each. As you increase the number of clusters, your inertia should decrease."
      ]
    },
    {
      "cell_type": "code",
      "execution_count": null,
      "metadata": {
        "id": "1WlVhQkWC_iK"
      },
      "outputs": [],
      "source": [
        "from sklearn.cluster import KMeans\n",
        "from sklearn.preprocessing import scale\n",
        "import matplotlib.pyplot as plt\n",
        "\n",
        "clusters = list(range(5, 50, 5))\n",
        "inertias = []\n",
        "\n",
        "scaled_data = scale(data[numeric_columns])\n",
        "\n",
        "for c in clusters:\n",
        "  model = KMeans(n_clusters=c)\n",
        "  model = model.fit(scaled_data)\n",
        "  inertias.append(model.inertia_)\n",
        "\n",
        "plt.plot(clusters, inertias)\n",
        "plt.show()"
      ]
    },
    {
      "cell_type": "markdown",
      "metadata": {
        "id": "UGrJ_QGkS3EF"
      },
      "source": [
        "The resulting graph should start high and to the left and curve down as the number of clusters grows. The initial slope is steep, but begins to level off. Your optimal number of clusters is somewhere in the [\"elbow\" of the graph](https://en.wikipedia.org/wiki/Elbow_method_(clustering) as the slope levels.\n",
        "\n",
        "Once you have this number, you need to then check to see if the number is reasonable for your use case. Say that the 'optimal' number of clusters for our mushroom identification is 15. Is that a reasonable number of clusters to deal with? If we have too many, we can overfit and make the model poor at generalizing. And what are the purposes of the clusters? If you are clustering mushrooms and want to find clusters that are definitely safe to eat, 15 or more clusters might be perfectly fine. If you are clustering customers for different advertising campaigns, 15 different campaigns might be more than your marketing department can handle.\n",
        "\n",
        "Clustering the data is often just the start of your journey. Once you have clusters, you'll need to look at each group and try to determine what makes them similar. What patterns did the clustering find? And will that clustering be useful to you?"
      ]
    },
    {
      "cell_type": "markdown",
      "metadata": {
        "id": "cVmJq7-ZTho3"
      },
      "source": [
        "### Examining Clusters"
      ]
    },
    {
      "cell_type": "markdown",
      "metadata": {
        "id": "2_IFLvUbTlDq"
      },
      "source": [
        "Let's say that `15` is a reasonable number of clusters. We can rebuild the model using that setting."
      ]
    },
    {
      "cell_type": "code",
      "execution_count": null,
      "metadata": {
        "id": "xfLmrYcwGKII"
      },
      "outputs": [],
      "source": [
        "from sklearn.cluster import KMeans\n",
        "from sklearn.preprocessing import scale\n",
        "\n",
        "model = KMeans(n_clusters=15)\n",
        "model.fit(scale(data[numeric_columns]))\n",
        "\n",
        "print(model.inertia_)"
      ]
    },
    {
      "cell_type": "markdown",
      "metadata": {
        "id": "AjHeNiyETwLZ"
      },
      "source": [
        "Now let's see if we have any 'pure' clusters. These are clusters with all-edible or all-poisonous mushrooms."
      ]
    },
    {
      "cell_type": "code",
      "execution_count": null,
      "metadata": {
        "id": "_Q5DkPXBGs_I"
      },
      "outputs": [],
      "source": [
        "import numpy as np\n",
        "\n",
        "for cluster in sorted(np.unique(model.labels_)):\n",
        "  num_edible = np.sum(data[model.labels_ == cluster]['class'] == 'e')\n",
        "  total = np.sum(model.labels_ == cluster)\n",
        "  print(cluster, num_edible / total)"
      ]
    },
    {
      "cell_type": "markdown",
      "metadata": {
        "id": "irNyQCzzT_el"
      },
      "source": [
        "In our model we had clusters `0`, `1`, `6`, and `10` be `100%` edible. Clusters `2`, `4`, `7`, and `12` were all poisonous. The remaining were a mix of the two.\n",
        "\n",
        "Knowing this, let's look at one of the all-edible clusters and see what attributes we could look for to have confidence that we have an edible mushroom."
      ]
    },
    {
      "cell_type": "code",
      "execution_count": null,
      "metadata": {
        "id": "5WhvIM6CMRp0"
      },
      "outputs": [],
      "source": [
        "edible = data[model.labels_ == 1]\n",
        "\n",
        "for column in edible.columns:\n",
        "  if column.endswith('-id'):\n",
        "    continue\n",
        "  print(column, edible[column].unique())\n"
      ]
    },
    {
      "cell_type": "markdown",
      "metadata": {
        "id": "-URbeexwVRtT"
      },
      "source": [
        "The mapping of the letter codes to more descriptive text can be found in the [dataset description](https://www.kaggle.com/uciml/mushroom-classification)."
      ]
    },
    {
      "cell_type": "markdown",
      "metadata": {
        "id": "t2ySDMeeP-6J"
      },
      "source": [
        "## Example: Classification of Digits\n",
        "\n",
        "Clustering for data exploration purposes can lead to interesting insights in to your data, but clustering can also be used for classification purposes.\n",
        "\n",
        "In the example below, we'll try to use k-means clustering to predict handwritten digits."
      ]
    },
    {
      "cell_type": "markdown",
      "metadata": {
        "id": "QePSEGmwQY2W"
      },
      "source": [
        "### Load the Data\n",
        "\n",
        "We'll load the digits dataset packaged with scikit-learn."
      ]
    },
    {
      "cell_type": "code",
      "execution_count": null,
      "metadata": {
        "id": "C9pGH4rfQUgA"
      },
      "outputs": [],
      "source": [
        "from sklearn.datasets import load_digits\n",
        "\n",
        "digits = load_digits()"
      ]
    },
    {
      "cell_type": "markdown",
      "metadata": {
        "id": "5OTRl2plQgDi"
      },
      "source": [
        "### Scale the Data\n",
        "\n",
        "It is good practice to scale the data to ensure that outliers don't have too big of an impact on the clustering."
      ]
    },
    {
      "cell_type": "code",
      "execution_count": null,
      "metadata": {
        "id": "t0aBmYGPQnri"
      },
      "outputs": [],
      "source": [
        "from sklearn.preprocessing import scale\n",
        "\n",
        "scaled_digits = scale(digits.data)"
      ]
    },
    {
      "cell_type": "markdown",
      "metadata": {
        "id": "dwQ9Df4zQ_a_"
      },
      "source": [
        "### Fit a Model\n",
        "\n",
        "We can then create a k-means model with 10 clusters. (We know there are 10 digits from 0 through 9.)"
      ]
    },
    {
      "cell_type": "code",
      "execution_count": null,
      "metadata": {
        "id": "gZaOn2gRQzsu"
      },
      "outputs": [],
      "source": [
        "from sklearn.cluster import KMeans\n",
        "\n",
        "model = KMeans(n_clusters=10)\n",
        "model = model.fit(scaled_digits)"
      ]
    },
    {
      "cell_type": "markdown",
      "metadata": {
        "id": "M0bCgYN_SCw5"
      },
      "source": [
        "### Make Predictions\n",
        "\n",
        "We can then use the model to predict which category a data point belongs to.\n",
        "\n",
        "In the case below, we'll just use some of the data that we trained with for illustrative purposes. The prediction will provide a numeric value."
      ]
    },
    {
      "cell_type": "code",
      "execution_count": null,
      "metadata": {
        "id": "mpLDPTMyRm7i"
      },
      "outputs": [],
      "source": [
        "cluster = model.predict([scaled_digits[0]])[0]\n",
        "\n",
        "cluster"
      ]
    },
    {
      "cell_type": "markdown",
      "metadata": {
        "id": "R_yDe1QZSaBj"
      },
      "source": [
        "What is this value? Is it the predicted digit?\n",
        "\n",
        "No. This number is the cluster that the model thinks the digit belongs to. To determine the predicted digit, we'll need to see what other digits are in the cluster and choose the most popular one for our classification.\n"
      ]
    },
    {
      "cell_type": "code",
      "execution_count": null,
      "metadata": {
        "id": "RzccT4gMSxi2"
      },
      "outputs": [],
      "source": [
        "import numpy as np\n",
        "\n",
        "labels = digits.target\n",
        "\n",
        "cluster_to_digit = [\n",
        "  np.argmax(\n",
        "      np.bincount(\n",
        "        np.array(\n",
        "          [labels[i] for i in range(len(model.labels_)) if model.labels_[i] == cluster]\n",
        "        )\n",
        "      )\n",
        "    ) for cluster in range(10)\n",
        "]\n",
        "\n",
        "cluster_to_digit"
      ]
    },
    {
      "cell_type": "markdown",
      "metadata": {
        "id": "LtBucdm7j9vQ"
      },
      "source": [
        "Here we can see the digit that each cluster represents."
      ]
    },
    {
      "cell_type": "markdown",
      "metadata": {
        "id": "Y1aVtOwEVdQf"
      },
      "source": [
        "### Measure Model Quality\n",
        "\n",
        "If we do have labeled data, as is the case with our digits data, then we can measure the quality of our model using the [homogeneity score](https://scikit-learn.org/stable/modules/generated/sklearn.metrics.homogeneity_score.html#sklearn.metrics.homogeneity_score_) and the [completeness score](https://scikit-learn.org/stable/modules/generated/sklearn.metrics.completeness_score.html#sklearn.metrics.completeness_score)."
      ]
    },
    {
      "cell_type": "code",
      "execution_count": null,
      "metadata": {
        "id": "r85vjdc0_l6S"
      },
      "outputs": [],
      "source": [
        "from sklearn.metrics import homogeneity_score\n",
        "from sklearn.metrics import completeness_score\n",
        "\n",
        "homogeneity = homogeneity_score(labels, model.labels_)\n",
        "completeness = completeness_score(labels, model.labels_)\n",
        "homogeneity, completeness"
      ]
    },
    {
      "cell_type": "markdown",
      "metadata": {
        "id": "X5IZSU1OvPMN"
      },
      "source": [
        "# Exercises"
      ]
    },
    {
      "cell_type": "markdown",
      "metadata": {
        "id": "sCkXnAZHXEUL"
      },
      "source": [
        "## Exercise 1"
      ]
    },
    {
      "cell_type": "markdown",
      "metadata": {
        "id": "Pzwm9vnEkoAf"
      },
      "source": [
        "Load the [iris dataset](https://scikit-learn.org/stable/auto_examples/datasets/plot_iris_dataset.html), create a k-means model with three clusters, and then find the homogeneity and completeness scores for the model. "
      ]
    },
    {
      "cell_type": "markdown",
      "metadata": {
        "id": "abvbIkWfvSl3"
      },
      "source": [
        "### **Student Solution**"
      ]
    },
    {
      "cell_type": "code",
      "execution_count": null,
      "metadata": {
        "id": "s3rLeWvIXhoo"
      },
      "outputs": [],
      "source": [
        "from sklearn import datasets\n",
        "from sklearn.cluster import KMeans\n",
        "from sklearn.preprocessing import scale\n",
        "from sklearn.metrics import homogeneity_score\n",
        "from sklearn.metrics import completeness_score\n",
        "import pandas as pd\n",
        "\n",
        "# Load the Iris Dataset\n",
        "iris = datasets.load_iris()\n",
        "iris_df = pd.DataFrame(iris.data, columns = iris.feature_names)\n",
        "\n",
        "# Create a K-means model w/ 3 cluster\n",
        "model = KMeans(n_clusters=3)\n",
        "model.fit(scale(iris_df[iris['feature_names']]))\n",
        "\n",
        "# Find homogeneity and completeness scores\n",
        "homogeneity = homogeneity_score(iris['target'], model.labels_)\n",
        "completeness = completeness_score(iris['target'], model.labels_)\n",
        "homogeneity, completeness"
      ]
    },
    {
      "cell_type": "markdown",
      "metadata": {
        "id": "qqSceBD3HDkU"
      },
      "source": [
        "---"
      ]
    },
    {
      "cell_type": "markdown",
      "metadata": {
        "id": "fjo4qeMNYu1T"
      },
      "source": [
        "## Exercise 2"
      ]
    },
    {
      "cell_type": "markdown",
      "metadata": {
        "id": "5VetIjZ1kqNk"
      },
      "source": [
        "Load the [iris dataset](https://scikit-learn.org/stable/auto_examples/datasets/plot_iris_dataset.html), and then create a k-means model with three clusters using only two features. (Try to find the best two features for clustering.) Create a plot of the two features.\n",
        "\n",
        "For each datapoint in the chart, use a [marker](https://matplotlib.org/api/markers_api.html) to encode the actual/correct species. For instance, use a triangle for Setosa, a square for Versicolour, and a circle for Virginica. Color each marker green if the predicted class matches the actual. Color each marker red if the classes don't match."
      ]
    },
    {
      "cell_type": "markdown",
      "metadata": {
        "id": "6ewsx_qWvXM8"
      },
      "source": [
        "### **Student Solution**"
      ]
    },
    {
      "cell_type": "code",
      "execution_count": null,
      "metadata": {
        "id": "Q-tgFdNHYuI5"
      },
      "outputs": [],
      "source": [
        "from sklearn import datasets\n",
        "from sklearn.cluster import KMeans\n",
        "from sklearn.preprocessing import scale\n",
        "from sklearn.metrics import homogeneity_score\n",
        "from sklearn.metrics import completeness_score\n",
        "import pandas as pd\n",
        "import numpy as np\n",
        "import matplotlib.pyplot as plt\n",
        "\n",
        "# Load the Iris Dataset\n",
        "iris = datasets.load_iris()\n",
        "iris_df = pd.DataFrame(iris.data, columns = iris.feature_names)\n",
        "\n",
        "# Pick 2 best features\n",
        "x = iris_df.iloc[:, 1:3].values\n",
        "\n",
        "# Create a K-means model w/ 3 cluster\n",
        "model = KMeans(n_clusters=3)\n",
        "y = model.fit_predict(scale(x))\n",
        "\n",
        "cluster_to_flower = [\n",
        "  np.argmax(\n",
        "      np.bincount(\n",
        "        np.array(\n",
        "          [iris.target[i] for i in range(len(model.labels_)) if model.labels_[i] == cluster]\n",
        "        )\n",
        "      )\n",
        "    ) for cluster in range(3)\n",
        "]\n",
        "\n",
        "correct = [cluster_to_flower[model.labels_[i]] for i in range(len(model.labels_))]"
      ]
    },
    {
      "cell_type": "code",
      "source": [
        "# Plot the 2 features\n",
        "y_min, y_max = x[:, 0].min() - 0.5, x[:, 0].max() + 0.5\n",
        "x_min, x_max = x[:, 1].min() - 0.5, x[:, 1].max() + 0.5\n",
        "\n",
        "plt.figure(figsize=(15,10))\n",
        "plt.title(\"Petal length vs Sepal width\")\n",
        "plt.xlabel(iris.feature_names[2])\n",
        "plt.ylabel(iris.feature_names[1])\n",
        "plt.xlim(x_min, x_max)\n",
        "plt.ylim(y_min, y_max)\n",
        "\n",
        "df = pd.DataFrame()\n",
        "df[iris.feature_names[1]] = iris.data[:,1]\n",
        "df[iris.feature_names[2]] = iris.data[:,2]\n",
        "df[\"prediction\"] = correct\n",
        "df[\"label\"] = iris.target\n",
        "\n",
        "markers = {0:\"D\", 1:\"s\", 2:\"o\"}\n",
        "classes = {0:\"Setosa\", 1:\"Versicolour\", 2:\"Virginica\"}\n",
        "\n",
        "for i in range(3):\n",
        "  pred_true = (df[\"prediction\"] == i) & (df[\"label\"] == i)\n",
        "  plt.scatter(df[pred_true][iris.feature_names[2]], df[pred_true][iris.feature_names[1]], marker = markers[i], edgecolor=\"k\", color='g', label = f\"{classes[i]} correct\")\n",
        "\n",
        "  pred_false = (df[\"prediction\"] == i) & (df[\"label\"] != i)\n",
        "  plt.scatter(df[pred_false][iris.feature_names[2]], df[pred_false][iris.feature_names[1]], marker = markers[i], edgecolor=\"k\", color='r', label = f\"{classes[i]} incorrect\" )\n",
        "\n",
        "plt.legend()\n",
        "plt.show()"
      ],
      "metadata": {
        "id": "CY4He-nVaLSe"
      },
      "execution_count": null,
      "outputs": []
    },
    {
      "cell_type": "markdown",
      "metadata": {
        "id": "eiHWlzVxHge1"
      },
      "source": [
        "---"
      ]
    }
  ],
  "metadata": {
    "colab": {
      "collapsed_sections": [
        "copyright",
        "exercise-1-key-1",
        "exercise-2-key-1"
      ],
      "name": "k-Means",
      "private_outputs": true,
      "provenance": [],
      "toc_visible": true,
      "include_colab_link": true
    },
    "kernelspec": {
      "display_name": "Python 3",
      "name": "python3"
    }
  },
  "nbformat": 4,
  "nbformat_minor": 0
}